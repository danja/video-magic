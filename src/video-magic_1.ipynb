{
  "cells": [
    {
      "cell_type": "markdown",
      "source": [
        "Verify Runtime Settings\n",
        "\n",
        "In the \"Runtime\" menu for the notebook window, select \"Change runtime type.\" Ensure that the following are selected:\n",
        "\n",
        "Runtime Type = Python 3\n",
        "Hardware Accelerator = T4 GPU?"
      ],
      "metadata": {
        "id": "kYWI-piiHJJ9"
      }
    },
    {
      "cell_type": "code",
      "source": [
        "!git clone https://github.com/danja/video-magic.git video-magic"
      ],
      "metadata": {
        "id": "TppHWWU0G6DN"
      },
      "execution_count": null,
      "outputs": []
    },
    {
      "cell_type": "code",
      "source": [
        "cd video-magic"
      ],
      "metadata": {
        "id": "x1_aKwqTKw3b"
      },
      "execution_count": null,
      "outputs": []
    },
    {
      "cell_type": "code",
      "source": [
        "!pip uninstall numpy -y"
      ],
      "metadata": {
        "id": "hN915dBEQFdb"
      },
      "execution_count": null,
      "outputs": []
    },
    {
      "cell_type": "markdown",
      "source": [
        "After the following block you will be asked to restart session - go ahead"
      ],
      "metadata": {
        "id": "Y2c8PWtiazF2"
      }
    },
    {
      "cell_type": "code",
      "source": [],
      "metadata": {
        "id": "oTV3Ksy9q4KO"
      },
      "execution_count": null,
      "outputs": []
    },
    {
      "cell_type": "code",
      "source": [
        "!pip install -r requirements-colab.txt"
      ],
      "metadata": {
        "id": "CsySasjwIymg"
      },
      "execution_count": null,
      "outputs": []
    },
    {
      "cell_type": "markdown",
      "source": [
        "At the left sidebar of your Colab notebook, click on the folder icon to open the file browser.\n",
        "Click on the upload icon (looks like a file with an up arrow).\n",
        "Select your video file from your local machine.\n"
      ],
      "metadata": {
        "id": "GXYwXpKxJ52e"
      }
    },
    {
      "cell_type": "code",
      "source": [
        "#!pip uninstall numpy -y\n",
        "#!pip install numpy==1.23.5"
      ],
      "metadata": {
        "id": "3EJCEgOCQf7n"
      },
      "execution_count": null,
      "outputs": []
    },
    {
      "cell_type": "code",
      "source": [
        "cd video-magic"
      ],
      "metadata": {
        "id": "xgJJjZmaTctU"
      },
      "execution_count": null,
      "outputs": []
    },
    {
      "cell_type": "code",
      "metadata": {
        "id": "T6HvJ29_Gzuk"
      },
      "source": [
        "import subprocess\n",
        "from time import time\n",
        "from RealESRGAN import RealESRGAN\n",
        "from PIL import Image\n",
        "import torch\n",
        "import ffmpeg\n",
        "import os\n",
        "\n",
        "\n",
        "def delete_files(folder):\n",
        "    for filename in os.listdir(folder):\n",
        "        if not filename.startswith('.'):  # Skip files starting with a dot\n",
        "            file_path = os.path.join(folder, filename)\n",
        "            try:\n",
        "                if os.path.isfile(file_path) or os.path.islink(file_path):\n",
        "                    os.unlink(file_path)\n",
        "            except Exception as e:\n",
        "                print(f'Failed to delete {file_path}. Reason: {e}')\n"
      ],
      "outputs": [],
      "execution_count": null
    },
    {
      "cell_type": "code",
      "source": [
        "# UPLOAD! AND MOVE TO INPUT\n",
        "# SOON : USE FROM DRIVE\n",
        "!pwd\n",
        "!ls data/input"
      ],
      "metadata": {
        "id": "LSiFqI--bS3W"
      },
      "execution_count": null,
      "outputs": []
    },
    {
      "cell_type": "code",
      "source": [
        "\n",
        "### From extract-frames.py ###\n",
        "\n",
        "from google.colab import drive\n",
        "drive.mount('/content/drive')\n",
        "\n",
        "#'data/input/snippet.mp4'\n",
        "video_path = '/content/drive/MyDrive/colab_input/orig-vid-only.mp4'\n",
        "output_folder = 'data/frames'\n",
        "\n",
        "\n",
        "def extract_frames(video_path, output_folder):\n",
        "    ffmpeg.input(video_path).output(f'{output_folder}/frame_%08d.png').run()\n",
        "\n",
        "\n",
        "delete_files(output_folder)\n",
        "\n",
        "extract_frames(video_path, output_folder)\n",
        "\n",
        "\n",
        "\n",
        "print('Frames extracted, starting upscaling')\n",
        "\n"
      ],
      "metadata": {
        "id": "St4Wu9MSWyRc"
      },
      "execution_count": null,
      "outputs": []
    },
    {
      "cell_type": "code",
      "source": [
        "\n",
        "### From upscale-many.py ###\n",
        "\n",
        "input_folder = 'data/frames'\n",
        "output_folder = 'data/upscaled'\n",
        "\n",
        "delete_files(output_folder)\n",
        "\n",
        "# number of frames to process, limit = 0 does all\n",
        "limit = 0\n",
        "\n",
        "device = torch.device('cuda' if torch.cuda.is_available() else 'cpu')\n",
        "\n",
        "model = RealESRGAN(device, scale=2)\n",
        "\n",
        "print('Loading weights...')\n",
        "\n",
        "model.load_weights('weights/RealESRGAN_x2.pth', download=True)\n",
        "\n",
        "# Ensure the output directory exists\n",
        "os.makedirs(output_folder, exist_ok=True)\n",
        "\n",
        "\n",
        "# Determine the number of frames to process\n",
        "if limit == 0:\n",
        "    limit = len([name for name in os.listdir(\n",
        "        input_folder) if name.endswith('.png')]) + 1\n",
        "\n",
        "print(f'\\nUpscaling {limit} frames...\\n')\n",
        "\n",
        "start_time = time()\n",
        "\n",
        "for i in range(1, limit):\n",
        "  #  print(f'Processing frame {i}')\n",
        "    input_image = os.path.join(input_folder, f'frame_{i:08d}.png')\n",
        "    output_image = os.path.join(output_folder, f'frame_{i:08d}.png')\n",
        "\n",
        "    if os.path.exists(input_image):\n",
        "        image = Image.open(input_image).convert('RGB')\n",
        "        sr_image = model.predict(image)\n",
        "        sr_image.save(output_image)\n",
        "\n",
        "        # Log progress every n frames\n",
        "        n = 10\n",
        "        if i % n == 0:\n",
        "            elapsed_time = time() - start_time\n",
        "            percentage_done = (i / n) * 100\n",
        "            print(f'Processed {i} frames ({percentage_done:.2f}%) in {elapsed_time:.2f} seconds')\n",
        "    else:\n",
        "        print(f'{input_image} does not exist')\n",
        "\n",
        "print('Upscaling complete. Now to interpolate...')\n",
        "\n"
      ],
      "metadata": {
        "id": "6EWMbd-OYAAU"
      },
      "execution_count": null,
      "outputs": []
    },
    {
      "cell_type": "code",
      "source": [
        "#from google.colab import drive\n",
        "#drive.mount('/content/drive')"
      ],
      "metadata": {
        "id": "ep3kpnuoZHsH"
      },
      "execution_count": null,
      "outputs": []
    },
    {
      "cell_type": "code",
      "source": [
        "!wget -O '/content/drive/MyDrive/rife-ncnn-vulkan-20221029-ubuntu.zip' 'https://github.com/nihui/rife-ncnn-vulkan/releases/download/20221029/rife-ncnn-vulkan-20221029-ubuntu.zip'"
      ],
      "metadata": {
        "id": "41fELpVsZMUq"
      },
      "execution_count": null,
      "outputs": []
    },
    {
      "cell_type": "code",
      "source": [
        "!mkdir -p /content/rife-ncnn-vulkan"
      ],
      "metadata": {
        "id": "dIAaVYr-ZPkl"
      },
      "execution_count": null,
      "outputs": []
    },
    {
      "cell_type": "code",
      "source": [
        "!unzip '/content/drive/MyDrive/rife-ncnn-vulkan-20221029-ubuntu.zip' -d '/content/rife-ncnn-vulkan'"
      ],
      "metadata": {
        "id": "QQjgtrfUZUVO"
      },
      "execution_count": null,
      "outputs": []
    },
    {
      "cell_type": "code",
      "source": [
        "!ls -R /content/rife-ncnn-vulkan"
      ],
      "metadata": {
        "id": "6qp_AGrhZX6d"
      },
      "execution_count": null,
      "outputs": []
    },
    {
      "cell_type": "code",
      "source": [
        "# rife-ncnn-vulkan-20221029-ubuntu/rife-ncnn-vulkan\n",
        "\n",
        "!chmod +x /content/rife-ncnn-vulkan/rife-ncnn-vulkan-20221029-ubuntu/rife-ncnn-vulkan"
      ],
      "metadata": {
        "id": "qDTE6zbBZbRT"
      },
      "execution_count": null,
      "outputs": []
    },
    {
      "cell_type": "code",
      "source": [
        "##### !/content/rife-ncnn-vulkan/rife-ncnn-vulkan -h"
      ],
      "metadata": {
        "id": "_D2a_3EGZfXL"
      },
      "execution_count": null,
      "outputs": []
    },
    {
      "cell_type": "code",
      "source": [
        "!ls -l /content/rife-ncnn-vulkan/rife-ncnn-vulkan-20221029-ubuntu\n",
        "!ldd /content/rife-ncnn-vulkan/rife-ncnn-vulkan-20221029-ubuntu/rife-ncnn-vulkan\n",
        "!find /content/rife-ncnn-vulkan -name \"libvulkan.so.1\""
      ],
      "metadata": {
        "id": "gsM-ODxvZsZ2"
      },
      "execution_count": null,
      "outputs": []
    },
    {
      "cell_type": "code",
      "source": [
        "!apt update && apt install -y libvulkan1"
      ],
      "metadata": {
        "id": "FsIBVwzeiL3S"
      },
      "execution_count": null,
      "outputs": []
    },
    {
      "cell_type": "code",
      "source": [
        "# NO !apt update\n",
        "#!apt install vulkan-utils\n",
        "import os\n",
        "os.environ['LD_LIBRARY_PATH'] = '/content/rife-ncnn-vulkan/rife-ncnn-vulkan-20221029-ubuntu:' + os.environ.get('LD_LIBRARY_PATH', '')"
      ],
      "metadata": {
        "id": "upQGCmpRZ1Ee"
      },
      "execution_count": null,
      "outputs": []
    },
    {
      "cell_type": "code",
      "source": [
        "!rm data/upscaled/.gitkeep"
      ],
      "metadata": {
        "id": "Rw_qt0fCiv4y"
      },
      "execution_count": null,
      "outputs": []
    },
    {
      "cell_type": "code",
      "source": [
        "\n",
        "### From run-rife.py/run-rife.sh ###\n",
        "\n",
        "\n",
        "def run_command(command):\n",
        "    print(f\"Executing command: {' '.join(command)}\")\n",
        "    try:\n",
        "        result = subprocess.run(command, check=True,\n",
        "                                text=True, capture_output=True)\n",
        "        print(\"Command output:\")\n",
        "        print(result.stdout)\n",
        "        return True\n",
        "    except subprocess.CalledProcessError as e:\n",
        "        print(f\"Error executing command: {e}\")\n",
        "        print(f\"Error output: {e.stderr}\")\n",
        "        return False\n",
        "\n",
        "\n",
        "def interpolate():\n",
        "    # Define the path to the rife executable\n",
        "    rife_path = '/content/rife-ncnn-vulkan/rife-ncnn-vulkan-20221029-ubuntu/rife-ncnn-vulkan'\n",
        "\n",
        "    # Check if the executable exists\n",
        "    if not os.path.exists(rife_path):\n",
        "        print(f\"Error: Rife executable not found at {rife_path}\")\n",
        "        return\n",
        "\n",
        "    # Define input and output directories\n",
        "    input_dir = 'data/upscaled/'\n",
        "    output_dir = 'data/interpolated/'\n",
        "\n",
        "    delete_files(output_dir)\n",
        "\n",
        "    # Check if input directory exists\n",
        "    if not os.path.exists(input_dir):\n",
        "        print(f\"Error: Input directory not found: {input_dir}\")\n",
        "        return\n",
        "\n",
        "    # Create output directory if it doesn't exist\n",
        "    os.makedirs(output_dir, exist_ok=True)\n",
        "\n",
        "    # Construct the command\n",
        "    command = [rife_path, '-i', input_dir, '-o', output_dir]\n",
        "\n",
        "    import time\n",
        "    start_time = time.time()\n",
        "\n",
        "    # Run the command\n",
        "    success = run_command(command)\n",
        "\n",
        "    end_time = time.time()\n",
        "    execution_time = end_time - start_time\n",
        "    print(f\"Execution time: {execution_time:.2f} seconds\")\n",
        "\n",
        "    if success:\n",
        "        print(\"Rife command executed successfully.\")\n",
        "    else:\n",
        "        print(\"Rife command failed.\")\n",
        "\n",
        "\n",
        "interpolate()\n",
        "\n",
        "##########################\n",
        "### From images-to-vid.py ###\n",
        "\n",
        "# Input frames directory\n",
        "input_folder = 'data/interpolated'\n",
        "\n",
        "# Output video path\n",
        "output_path = 'data/output/all.avi'\n",
        "\n",
        "# Ensure the output directory exists\n",
        "os.makedirs(os.path.dirname(output_path), exist_ok=True)\n",
        "\n",
        "\n",
        "def create_video_from_frames(input_folder, output_path, start_number=1, num_frames=400, fps=8):\n",
        "    # Construct the input pattern for the frames\n",
        "    input_pattern = f\"{input_folder}/%08d.png\"\n",
        "\n",
        "    # Create the ffmpeg input with the frame range and explicit input frame rate\n",
        "    input_stream = (\n",
        "        ffmpeg\n",
        "        .input(input_pattern, start_number=start_number, framerate=fps)\n",
        "        .filter('fps', fps=fps)\n",
        "    )\n",
        "\n",
        "    # Set up the output with lossless encoding\n",
        "    output = ffmpeg.output(\n",
        "        input_stream,\n",
        "        output_path,\n",
        "        vcodec='huffyuv',  # HuffYUV is a lossless codec compatible with AVI\n",
        "        pix_fmt='rgb24',   # Use RGB color space for best quality\n",
        "        acodec='none',     # No audio\n",
        "        r=fps,             # Ensure output frame rate matches input\n",
        "        vframes=num_frames  # Limit the number of frames in the output\n",
        "    )\n",
        "\n",
        "    # Run the ffmpeg command\n",
        "    ffmpeg.run(output, overwrite_output=True)\n",
        "\n",
        "\n",
        "# Call the function to create the video\n",
        "create_video_from_frames(input_folder, output_path, num_frames=400, fps=8)\n",
        "\n",
        "print(f\"Video created and saved to {output_path}\")\n",
        "\n",
        "print('All done.')\n",
        "\n",
        "########### copy to drive\n",
        "\n",
        "# from google.colab import drive\n",
        "# drive.mount('/content/drive')\n",
        "\n",
        "import shutil\n",
        "import os\n",
        "\n",
        "# Source directory in Colab\n",
        "source_dir = 'data/output/'\n",
        "\n",
        "# Destination directory in Google Drive\n",
        "dest_dir = '/content/drive/MyDrive/colab_output/'\n",
        "\n",
        "# Create the destination directory if it doesn't exist\n",
        "os.makedirs(dest_dir, exist_ok=True)\n",
        "\n",
        "# Copy the contents\n",
        "shutil.copytree(source_dir, dest_dir, dirs_exist_ok=True)\n",
        "\n",
        "print(f\"Contents copied from {source_dir} to {dest_dir}\")\n",
        "\n"
      ],
      "metadata": {
        "id": "deE-4WjvYD96"
      },
      "execution_count": null,
      "outputs": []
    }
  ],
  "metadata": {
    "anaconda-cloud": {},
    "kernelspec": {
      "display_name": "Python 3",
      "name": "python3"
    },
    "language_info": {
      "codemirror_mode": {
        "name": "ipython",
        "version": 3
      },
      "file_extension": ".py",
      "mimetype": "text/x-python",
      "name": "python",
      "nbconvert_exporter": "python",
      "pygments_lexer": "ipython3",
      "version": "3.6.1"
    },
    "colab": {
      "provenance": [],
      "gpuType": "T4"
    },
    "accelerator": "GPU"
  },
  "nbformat": 4,
  "nbformat_minor": 0
}